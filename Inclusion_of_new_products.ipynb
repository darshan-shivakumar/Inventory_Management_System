{
 "cells": [
  {
   "cell_type": "markdown",
   "id": "50be5d08",
   "metadata": {},
   "source": [
    "# Reading the data from JSON"
   ]
  },
  {
   "cell_type": "code",
   "execution_count": 17,
   "id": "36ddd90e",
   "metadata": {},
   "outputs": [],
   "source": [
    "import json"
   ]
  },
  {
   "cell_type": "code",
   "execution_count": 18,
   "id": "1542bcea",
   "metadata": {},
   "outputs": [],
   "source": [
    "fd= open('record.json','r')\n",
    "r=fd.read()\n",
    "fd.close()\n",
    "\n",
    "record=json.loads(r)\n",
    "\n"
   ]
  },
  {
   "cell_type": "code",
   "execution_count": 19,
   "id": "7c928570",
   "metadata": {
    "scrolled": true
   },
   "outputs": [
    {
     "data": {
      "text/plain": [
       "{'1000': {'Name': 'Chococake',\n",
       "  'price': 20,\n",
       "  'Quantity': 40,\n",
       "  'Company': 'zzz',\n",
       "  'Best_before': '3 months',\n",
       "  'Category': 'pastry'},\n",
       " '1001': {'Name': 'Vanillacake',\n",
       "  'price': 20,\n",
       "  'Quantity': 40,\n",
       "  'Company': 'zzz',\n",
       "  'Best_before': '3 months',\n",
       "  'Category': 'pastry'},\n",
       " '1002': {'Name': 'Pistacake',\n",
       "  'price': 20,\n",
       "  'Quantity': 40,\n",
       "  'Company': 'zzz',\n",
       "  'Best_before': '3 months',\n",
       "  'Category': 'pastry'},\n",
       " '1003': {'Name': 'plumcake',\n",
       "  'price': 20,\n",
       "  'Quantity': 40,\n",
       "  'Company': 'zzz',\n",
       "  'Best_before': '3 months',\n",
       "  'Category': 'pastry'},\n",
       " '1004': {'Name': 'Bananacake',\n",
       "  'price': 20,\n",
       "  'Quantity': 40,\n",
       "  'Company': 'zzz',\n",
       "  'Best_before': '3 months',\n",
       "  'Category': 'pastry'},\n",
       " '1005': {'Name': 'Coke',\n",
       "  'price': 30,\n",
       "  'Quantity': 50,\n",
       "  'Company': 'zzz',\n",
       "  'Best_before': '5 months',\n",
       "  'Category': 'drinks'},\n",
       " '1006': {'Name': 'Fanta',\n",
       "  'price': 30,\n",
       "  'Quantity': 50,\n",
       "  'Company': 'zzz',\n",
       "  'Best_before': '5 months',\n",
       "  'Category': 'drinks'},\n",
       " '1007': {'Name': 'Limca',\n",
       "  'price': 30,\n",
       "  'Quantity': 50,\n",
       "  'Company': 'zzz',\n",
       "  'Best_before': '5 months',\n",
       "  'Category': 'drinks'},\n",
       " '1008': {'Name': 'Dal',\n",
       "  'price': 20,\n",
       "  'Quantity': 40,\n",
       "  'Company': 'zzz',\n",
       "  'Best_before': '3 months',\n",
       "  'Category': 'Cereals'},\n",
       " '1009': {'Name': 'Apples',\n",
       "  'price': 20,\n",
       "  'Quantity': 40,\n",
       "  'Company': 'zzz',\n",
       "  'Best_before': '3 months',\n",
       "  'Category': 'Fruits'},\n",
       " '1010': {'Name': 'Chococrunch',\n",
       "  'price': 20,\n",
       "  'Quantity': 40,\n",
       "  'Company': 'zzz',\n",
       "  'Best_before': '3 months',\n",
       "  'Category': 'chocolate'}}"
      ]
     },
     "execution_count": 19,
     "metadata": {},
     "output_type": "execute_result"
    }
   ],
   "source": [
    "record"
   ]
  },
  {
   "cell_type": "markdown",
   "id": "2a543390",
   "metadata": {},
   "source": [
    "# Adding new products into Inventory"
   ]
  },
  {
   "cell_type": "code",
   "execution_count": 21,
   "id": "43f390b7",
   "metadata": {},
   "outputs": [
    {
     "name": "stdout",
     "output_type": "stream",
     "text": [
      "Enter the product Id: 1011\n",
      "Enter the product's name: thumbsup\n",
      "Enter the price: 40\n",
      "Enter the quantity: 100\n",
      "Enter the product's company: zzz\n",
      "Enter the product best before in months:  3 months\n",
      "Enter the product's category: drinks\n"
     ]
    }
   ],
   "source": [
    "prod_id=str(input('Enter the product Id: '))\n",
    "prod_name= str(input(\"Enter the product's name: \"))\n",
    "prod_price=int(input('Enter the price: '))\n",
    "prod_quan=int(input('Enter the quantity: '))\n",
    "prod_comp=str(input(\"Enter the product's company: \"))\n",
    "prod_bb=str(input('Enter the product best before in months: '))\n",
    "prod_cat=str(input(\"Enter the product's category: \"))\n",
    "\n",
    "record[prod_id]={'Name':prod_name, 'price':prod_price,'Quantity':prod_quan,'Company':prod_comp,'Best_before':prod_bb,'Category':prod_cat}\n",
    "\n",
    "js= json.dumps(record)\n",
    "\n",
    "fd= open('record.json','w')\n",
    "fd.write(js)\n",
    "fd.close()"
   ]
  },
  {
   "cell_type": "markdown",
   "id": "5846ab0f",
   "metadata": {},
   "source": [
    "# Updated record with the new item"
   ]
  },
  {
   "cell_type": "code",
   "execution_count": 24,
   "id": "1c9447a5",
   "metadata": {
    "scrolled": true
   },
   "outputs": [
    {
     "data": {
      "text/plain": [
       "{'1000': {'Name': 'Chococake',\n",
       "  'price': 20,\n",
       "  'Quantity': 40,\n",
       "  'Company': 'zzz',\n",
       "  'Best_before': '3 months',\n",
       "  'Category': 'pastry'},\n",
       " '1001': {'Name': 'Vanillacake',\n",
       "  'price': 20,\n",
       "  'Quantity': 40,\n",
       "  'Company': 'zzz',\n",
       "  'Best_before': '3 months',\n",
       "  'Category': 'pastry'},\n",
       " '1002': {'Name': 'Pistacake',\n",
       "  'price': 20,\n",
       "  'Quantity': 40,\n",
       "  'Company': 'zzz',\n",
       "  'Best_before': '3 months',\n",
       "  'Category': 'pastry'},\n",
       " '1003': {'Name': 'plumcake',\n",
       "  'price': 20,\n",
       "  'Quantity': 40,\n",
       "  'Company': 'zzz',\n",
       "  'Best_before': '3 months',\n",
       "  'Category': 'pastry'},\n",
       " '1004': {'Name': 'Bananacake',\n",
       "  'price': 20,\n",
       "  'Quantity': 40,\n",
       "  'Company': 'zzz',\n",
       "  'Best_before': '3 months',\n",
       "  'Category': 'pastry'},\n",
       " '1005': {'Name': 'Coke',\n",
       "  'price': 30,\n",
       "  'Quantity': 50,\n",
       "  'Company': 'zzz',\n",
       "  'Best_before': '5 months',\n",
       "  'Category': 'drinks'},\n",
       " '1006': {'Name': 'Fanta',\n",
       "  'price': 30,\n",
       "  'Quantity': 50,\n",
       "  'Company': 'zzz',\n",
       "  'Best_before': '5 months',\n",
       "  'Category': 'drinks'},\n",
       " '1007': {'Name': 'Limca',\n",
       "  'price': 30,\n",
       "  'Quantity': 50,\n",
       "  'Company': 'zzz',\n",
       "  'Best_before': '5 months',\n",
       "  'Category': 'drinks'},\n",
       " '1008': {'Name': 'Dal',\n",
       "  'price': 20,\n",
       "  'Quantity': 40,\n",
       "  'Company': 'zzz',\n",
       "  'Best_before': '3 months',\n",
       "  'Category': 'Cereals'},\n",
       " '1009': {'Name': 'Apples',\n",
       "  'price': 20,\n",
       "  'Quantity': 40,\n",
       "  'Company': 'zzz',\n",
       "  'Best_before': '3 months',\n",
       "  'Category': 'Fruits'},\n",
       " '1010': {'Name': 'Chococrunch',\n",
       "  'price': 20,\n",
       "  'Quantity': 40,\n",
       "  'Company': 'zzz',\n",
       "  'Best_before': '3 months',\n",
       "  'Category': 'chocolate'},\n",
       " '1011': {'Name': 'thumbsup',\n",
       "  'price': 40,\n",
       "  'Quantity': 100,\n",
       "  'Company': 'zzz',\n",
       "  'Best_before': ' 3 months',\n",
       "  'Category': 'drinks'}}"
      ]
     },
     "execution_count": 24,
     "metadata": {},
     "output_type": "execute_result"
    }
   ],
   "source": [
    "record"
   ]
  },
  {
   "cell_type": "markdown",
   "id": "68372a9a",
   "metadata": {},
   "source": [
    "#### here above we can see our new item thumbsup added as 1011"
   ]
  }
 ],
 "metadata": {
  "kernelspec": {
   "display_name": "Python 3",
   "language": "python",
   "name": "python3"
  },
  "language_info": {
   "codemirror_mode": {
    "name": "ipython",
    "version": 3
   },
   "file_extension": ".py",
   "mimetype": "text/x-python",
   "name": "python",
   "nbconvert_exporter": "python",
   "pygments_lexer": "ipython3",
   "version": "3.8.8"
  }
 },
 "nbformat": 4,
 "nbformat_minor": 5
}
