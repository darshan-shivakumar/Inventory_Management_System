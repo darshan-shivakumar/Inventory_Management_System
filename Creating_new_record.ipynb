{
 "cells": [
  {
   "cell_type": "markdown",
   "id": "3bd607da",
   "metadata": {},
   "source": [
    "# Creating a new record of items "
   ]
  },
  {
   "cell_type": "code",
   "execution_count": 4,
   "id": "e0d7ab2e",
   "metadata": {},
   "outputs": [],
   "source": [
    "record= { 1000:{'Name':'Chococake','price':20,'Quantity':40,'Company':'zzz','Best_before':'3 months','Category':'pastry'},\n",
    "          1001:{'Name':'Vanillacake','price':20,'Quantity':40,'Company':'zzz','Best_before':'3 months','Category':'pastry'},\n",
    "          1002:{'Name':'Pistacake','price':20,'Quantity':40,'Company':'zzz','Best_before':'3 months','Category':'pastry'},\n",
    "          1003:{'Name':'plumcake','price':20,'Quantity':40,'Company':'zzz','Best_before':'3 months','Category':'pastry'},\n",
    "          1004:{'Name':'Bananacake','price':20,'Quantity':40,'Company':'zzz','Best_before':'3 months','Category':'pastry'},\n",
    "          1005:{'Name':'Coke','price':30,'Quantity':50,'Company':'zzz','Best_before':'5 months','Category':'drinks'},\n",
    "          1006:{'Name':'Fanta','price':30,'Quantity':50,'Company':'zzz','Best_before':'5 months','Category':'drinks'},\n",
    "          1007:{'Name':'Limca','price':30,'Quantity':50,'Company':'zzz','Best_before':'5 months','Category':'drinks'},\n",
    "          1008:{'Name':'Dal','price':20,'Quantity':40,'Company':'zzz','Best_before':'3 months','Category':'Cereals'},\n",
    "          1009:{'Name':'Apples','price':20,'Quantity':40,'Company':'zzz','Best_before':'3 months','Category':'Fruits'},\n",
    "          1010:{'Name':'Chococrunch','price':20,'Quantity':40,'Company':'zzz','Best_before':'3 months','Category':'chocolate'}\n",
    "        }"
   ]
  },
  {
   "cell_type": "code",
   "execution_count": 5,
   "id": "92153323",
   "metadata": {},
   "outputs": [
    {
     "data": {
      "text/plain": [
       "{1000: {'Name': 'Chococake',\n",
       "  'price': 20,\n",
       "  'Quantity': 40,\n",
       "  'Company': 'zzz',\n",
       "  'Best_before': '3 months',\n",
       "  'Category': 'pastry'},\n",
       " 1001: {'Name': 'Vanillacake',\n",
       "  'price': 20,\n",
       "  'Quantity': 40,\n",
       "  'Company': 'zzz',\n",
       "  'Best_before': '3 months',\n",
       "  'Category': 'pastry'},\n",
       " 1002: {'Name': 'Pistacake',\n",
       "  'price': 20,\n",
       "  'Quantity': 40,\n",
       "  'Company': 'zzz',\n",
       "  'Best_before': '3 months',\n",
       "  'Category': 'pastry'},\n",
       " 1003: {'Name': 'plumcake',\n",
       "  'price': 20,\n",
       "  'Quantity': 40,\n",
       "  'Company': 'zzz',\n",
       "  'Best_before': '3 months',\n",
       "  'Category': 'pastry'},\n",
       " 1004: {'Name': 'Bananacake',\n",
       "  'price': 20,\n",
       "  'Quantity': 40,\n",
       "  'Company': 'zzz',\n",
       "  'Best_before': '3 months',\n",
       "  'Category': 'pastry'},\n",
       " 1005: {'Name': 'Coke',\n",
       "  'price': 30,\n",
       "  'Quantity': 50,\n",
       "  'Company': 'zzz',\n",
       "  'Best_before': '5 months',\n",
       "  'Category': 'drinks'},\n",
       " 1006: {'Name': 'Fanta',\n",
       "  'price': 30,\n",
       "  'Quantity': 50,\n",
       "  'Company': 'zzz',\n",
       "  'Best_before': '5 months',\n",
       "  'Category': 'drinks'},\n",
       " 1007: {'Name': 'Limca',\n",
       "  'price': 30,\n",
       "  'Quantity': 50,\n",
       "  'Company': 'zzz',\n",
       "  'Best_before': '5 months',\n",
       "  'Category': 'drinks'},\n",
       " 1008: {'Name': 'Dal',\n",
       "  'price': 20,\n",
       "  'Quantity': 40,\n",
       "  'Company': 'zzz',\n",
       "  'Best_before': '3 months',\n",
       "  'Category': 'Cereals'},\n",
       " 1009: {'Name': 'Apples',\n",
       "  'price': 20,\n",
       "  'Quantity': 40,\n",
       "  'Company': 'zzz',\n",
       "  'Best_before': '3 months',\n",
       "  'Category': 'Fruits'},\n",
       " 1010: {'Name': 'Chococrunch',\n",
       "  'price': 20,\n",
       "  'Quantity': 40,\n",
       "  'Company': 'zzz',\n",
       "  'Best_before': '3 months',\n",
       "  'Category': 'chocolate'}}"
      ]
     },
     "execution_count": 5,
     "metadata": {},
     "output_type": "execute_result"
    }
   ],
   "source": [
    "record"
   ]
  },
  {
   "cell_type": "markdown",
   "id": "100e6265",
   "metadata": {},
   "source": [
    "# We dump the data in a file using json"
   ]
  },
  {
   "cell_type": "code",
   "execution_count": 6,
   "id": "ff888558",
   "metadata": {},
   "outputs": [],
   "source": [
    "import json"
   ]
  },
  {
   "cell_type": "code",
   "execution_count": 7,
   "id": "1a97e3df",
   "metadata": {},
   "outputs": [],
   "source": [
    "js= json.dumps(record)"
   ]
  },
  {
   "cell_type": "code",
   "execution_count": 8,
   "id": "943ac45b",
   "metadata": {},
   "outputs": [],
   "source": [
    "fd= open('record.json','w')\n",
    "fd.write(js)\n",
    "fd.close()\n"
   ]
  },
  {
   "cell_type": "code",
   "execution_count": 9,
   "id": "d274d090",
   "metadata": {},
   "outputs": [
    {
     "data": {
      "text/plain": [
       "'{\"1000\": {\"Name\": \"Chococake\", \"price\": 20, \"Quantity\": 40, \"Company\": \"zzz\", \"Best_before\": \"3 months\", \"Category\": \"pastry\"}, \"1001\": {\"Name\": \"Vanillacake\", \"price\": 20, \"Quantity\": 40, \"Company\": \"zzz\", \"Best_before\": \"3 months\", \"Category\": \"pastry\"}, \"1002\": {\"Name\": \"Pistacake\", \"price\": 20, \"Quantity\": 40, \"Company\": \"zzz\", \"Best_before\": \"3 months\", \"Category\": \"pastry\"}, \"1003\": {\"Name\": \"plumcake\", \"price\": 20, \"Quantity\": 40, \"Company\": \"zzz\", \"Best_before\": \"3 months\", \"Category\": \"pastry\"}, \"1004\": {\"Name\": \"Bananacake\", \"price\": 20, \"Quantity\": 40, \"Company\": \"zzz\", \"Best_before\": \"3 months\", \"Category\": \"pastry\"}, \"1005\": {\"Name\": \"Coke\", \"price\": 30, \"Quantity\": 50, \"Company\": \"zzz\", \"Best_before\": \"5 months\", \"Category\": \"drinks\"}, \"1006\": {\"Name\": \"Fanta\", \"price\": 30, \"Quantity\": 50, \"Company\": \"zzz\", \"Best_before\": \"5 months\", \"Category\": \"drinks\"}, \"1007\": {\"Name\": \"Limca\", \"price\": 30, \"Quantity\": 50, \"Company\": \"zzz\", \"Best_before\": \"5 months\", \"Category\": \"drinks\"}, \"1008\": {\"Name\": \"Dal\", \"price\": 20, \"Quantity\": 40, \"Company\": \"zzz\", \"Best_before\": \"3 months\", \"Category\": \"Cereals\"}, \"1009\": {\"Name\": \"Apples\", \"price\": 20, \"Quantity\": 40, \"Company\": \"zzz\", \"Best_before\": \"3 months\", \"Category\": \"Fruits\"}, \"1010\": {\"Name\": \"Chococrunch\", \"price\": 20, \"Quantity\": 40, \"Company\": \"zzz\", \"Best_before\": \"3 months\", \"Category\": \"chocolate\"}}'"
      ]
     },
     "execution_count": 9,
     "metadata": {},
     "output_type": "execute_result"
    }
   ],
   "source": [
    "js"
   ]
  }
 ],
 "metadata": {
  "kernelspec": {
   "display_name": "Python 3",
   "language": "python",
   "name": "python3"
  },
  "language_info": {
   "codemirror_mode": {
    "name": "ipython",
    "version": 3
   },
   "file_extension": ".py",
   "mimetype": "text/x-python",
   "name": "python",
   "nbconvert_exporter": "python",
   "pygments_lexer": "ipython3",
   "version": "3.8.8"
  }
 },
 "nbformat": 4,
 "nbformat_minor": 5
}
