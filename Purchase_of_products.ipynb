{
 "cells": [
  {
   "cell_type": "markdown",
   "id": "0885d52f",
   "metadata": {},
   "source": [
    "# Importing the Inventory"
   ]
  },
  {
   "cell_type": "code",
   "execution_count": 1,
   "id": "b98ba80b",
   "metadata": {},
   "outputs": [],
   "source": [
    "import json"
   ]
  },
  {
   "cell_type": "code",
   "execution_count": 2,
   "id": "3c5be936",
   "metadata": {},
   "outputs": [],
   "source": [
    "fd= open(\"record.json\",'r')\n",
    "r=fd.read()\n",
    "fd.close()\n",
    "\n",
    "record= json.loads(r)"
   ]
  },
  {
   "cell_type": "code",
   "execution_count": 3,
   "id": "299367e6",
   "metadata": {},
   "outputs": [
    {
     "data": {
      "text/plain": [
       "{'1000': {'Name': 'Chococake',\n",
       "  'price': 20,\n",
       "  'Quantity': 40,\n",
       "  'Company': 'zzz',\n",
       "  'Best_before': '3 months',\n",
       "  'Category': 'pastry'},\n",
       " '1001': {'Name': 'Vanillacake',\n",
       "  'price': 20,\n",
       "  'Quantity': 40,\n",
       "  'Company': 'zzz',\n",
       "  'Best_before': '3 months',\n",
       "  'Category': 'pastry'},\n",
       " '1002': {'Name': 'Pistacake',\n",
       "  'price': 20,\n",
       "  'Quantity': 40,\n",
       "  'Company': 'zzz',\n",
       "  'Best_before': '3 months',\n",
       "  'Category': 'pastry'},\n",
       " '1003': {'Name': 'plumcake',\n",
       "  'price': 20,\n",
       "  'Quantity': 40,\n",
       "  'Company': 'zzz',\n",
       "  'Best_before': '3 months',\n",
       "  'Category': 'pastry'},\n",
       " '1004': {'Name': 'Bananacake',\n",
       "  'price': 20,\n",
       "  'Quantity': 40,\n",
       "  'Company': 'zzz',\n",
       "  'Best_before': '3 months',\n",
       "  'Category': 'pastry'},\n",
       " '1005': {'Name': 'Coke',\n",
       "  'price': 30,\n",
       "  'Quantity': 50,\n",
       "  'Company': 'zzz',\n",
       "  'Best_before': '5 months',\n",
       "  'Category': 'drinks'},\n",
       " '1006': {'Name': 'Fanta',\n",
       "  'price': 30,\n",
       "  'Quantity': 20,\n",
       "  'Company': 'zzz',\n",
       "  'Best_before': '5 months',\n",
       "  'Category': 'drinks'},\n",
       " '1007': {'Name': 'Limca',\n",
       "  'price': 30,\n",
       "  'Quantity': 50,\n",
       "  'Company': 'zzz',\n",
       "  'Best_before': '5 months',\n",
       "  'Category': 'drinks'},\n",
       " '1008': {'Name': 'Dal',\n",
       "  'price': 20,\n",
       "  'Quantity': 40,\n",
       "  'Company': 'zzz',\n",
       "  'Best_before': '3 months',\n",
       "  'Category': 'Cereals'},\n",
       " '1009': {'Name': 'Apples',\n",
       "  'price': 20,\n",
       "  'Quantity': 40,\n",
       "  'Company': 'zzz',\n",
       "  'Best_before': '3 months',\n",
       "  'Category': 'Fruits'},\n",
       " '1010': {'Name': 'Chococrunch',\n",
       "  'price': 20,\n",
       "  'Quantity': 40,\n",
       "  'Company': 'zzz',\n",
       "  'Best_before': '3 months',\n",
       "  'Category': 'chocolate'},\n",
       " '1011': {'Name': 'thumbsup',\n",
       "  'price': 40,\n",
       "  'Quantity': 100,\n",
       "  'Company': 'zzz',\n",
       "  'Best_before': ' 3 months',\n",
       "  'Category': 'drinks'}}"
      ]
     },
     "execution_count": 3,
     "metadata": {},
     "output_type": "execute_result"
    }
   ],
   "source": [
    "record"
   ]
  },
  {
   "cell_type": "markdown",
   "id": "1f863b60",
   "metadata": {},
   "source": [
    "# Purchase of products"
   ]
  },
  {
   "cell_type": "code",
   "execution_count": 4,
   "id": "9c8a918c",
   "metadata": {
    "scrolled": true
   },
   "outputs": [
    {
     "name": "stdout",
     "output_type": "stream",
     "text": [
      "enter the product Id: 1000\n",
      "enter the quantity of the product: 30\n",
      "Product name: Chococake\n",
      "Product price: 20\n",
      "Amount to be paid: 600\n",
      "quantity before purchase: 40\n",
      "quantity left: 10\n"
     ]
    }
   ],
   "source": [
    "prod_ui=str(input('enter the product Id: '))\n",
    "prod_quan=int(input('enter the quantity of the product: '))\n",
    "\n",
    "print('Product name:',record[prod_ui]['Name'])\n",
    "print('Product price:',record[prod_ui]['price'])\n",
    "print('Amount to be paid:',record[prod_ui]['price']*prod_quan)\n",
    "print('quantity before purchase:',record[prod_ui]['Quantity'])\n",
    "print('quantity left:',record[prod_ui]['Quantity']-prod_quan)\n",
    "\n",
    "record[prod_ui]['Quantity']=record[prod_ui]['Quantity']-prod_quan"
   ]
  },
  {
   "cell_type": "markdown",
   "id": "970ec547",
   "metadata": {},
   "source": [
    "### we can see the quantity before purchase and after purchase"
   ]
  },
  {
   "cell_type": "code",
   "execution_count": 5,
   "id": "8a9a4cba",
   "metadata": {},
   "outputs": [
    {
     "data": {
      "text/plain": [
       "{'1000': {'Name': 'Chococake',\n",
       "  'price': 20,\n",
       "  'Quantity': 10,\n",
       "  'Company': 'zzz',\n",
       "  'Best_before': '3 months',\n",
       "  'Category': 'pastry'},\n",
       " '1001': {'Name': 'Vanillacake',\n",
       "  'price': 20,\n",
       "  'Quantity': 40,\n",
       "  'Company': 'zzz',\n",
       "  'Best_before': '3 months',\n",
       "  'Category': 'pastry'},\n",
       " '1002': {'Name': 'Pistacake',\n",
       "  'price': 20,\n",
       "  'Quantity': 40,\n",
       "  'Company': 'zzz',\n",
       "  'Best_before': '3 months',\n",
       "  'Category': 'pastry'},\n",
       " '1003': {'Name': 'plumcake',\n",
       "  'price': 20,\n",
       "  'Quantity': 40,\n",
       "  'Company': 'zzz',\n",
       "  'Best_before': '3 months',\n",
       "  'Category': 'pastry'},\n",
       " '1004': {'Name': 'Bananacake',\n",
       "  'price': 20,\n",
       "  'Quantity': 40,\n",
       "  'Company': 'zzz',\n",
       "  'Best_before': '3 months',\n",
       "  'Category': 'pastry'},\n",
       " '1005': {'Name': 'Coke',\n",
       "  'price': 30,\n",
       "  'Quantity': 50,\n",
       "  'Company': 'zzz',\n",
       "  'Best_before': '5 months',\n",
       "  'Category': 'drinks'},\n",
       " '1006': {'Name': 'Fanta',\n",
       "  'price': 30,\n",
       "  'Quantity': 20,\n",
       "  'Company': 'zzz',\n",
       "  'Best_before': '5 months',\n",
       "  'Category': 'drinks'},\n",
       " '1007': {'Name': 'Limca',\n",
       "  'price': 30,\n",
       "  'Quantity': 50,\n",
       "  'Company': 'zzz',\n",
       "  'Best_before': '5 months',\n",
       "  'Category': 'drinks'},\n",
       " '1008': {'Name': 'Dal',\n",
       "  'price': 20,\n",
       "  'Quantity': 40,\n",
       "  'Company': 'zzz',\n",
       "  'Best_before': '3 months',\n",
       "  'Category': 'Cereals'},\n",
       " '1009': {'Name': 'Apples',\n",
       "  'price': 20,\n",
       "  'Quantity': 40,\n",
       "  'Company': 'zzz',\n",
       "  'Best_before': '3 months',\n",
       "  'Category': 'Fruits'},\n",
       " '1010': {'Name': 'Chococrunch',\n",
       "  'price': 20,\n",
       "  'Quantity': 40,\n",
       "  'Company': 'zzz',\n",
       "  'Best_before': '3 months',\n",
       "  'Category': 'chocolate'},\n",
       " '1011': {'Name': 'thumbsup',\n",
       "  'price': 40,\n",
       "  'Quantity': 100,\n",
       "  'Company': 'zzz',\n",
       "  'Best_before': ' 3 months',\n",
       "  'Category': 'drinks'}}"
      ]
     },
     "execution_count": 5,
     "metadata": {},
     "output_type": "execute_result"
    }
   ],
   "source": [
    "record"
   ]
  },
  {
   "cell_type": "markdown",
   "id": "95aeec69",
   "metadata": {},
   "source": [
    "# Here in updated record we can see 1000 id product has only 10 left"
   ]
  },
  {
   "cell_type": "code",
   "execution_count": 6,
   "id": "f6cebf58",
   "metadata": {},
   "outputs": [],
   "source": [
    "jss= json.dumps(record)"
   ]
  },
  {
   "cell_type": "markdown",
   "id": "69a063e7",
   "metadata": {},
   "source": [
    "# Now lets us update the Inventory  "
   ]
  },
  {
   "cell_type": "code",
   "execution_count": 7,
   "id": "4acb4434",
   "metadata": {},
   "outputs": [],
   "source": [
    "fd= open(\"record.json\",'w')\n",
    "w=fd.write(jss)\n",
    "fd.close()"
   ]
  },
  {
   "cell_type": "code",
   "execution_count": 8,
   "id": "8f9b8f0a",
   "metadata": {
    "scrolled": true
   },
   "outputs": [],
   "source": [
    "fd= open(\"record.json\",'r')\n",
    "r=fd.read()\n",
    "fd.close()\n",
    "\n",
    "updated_record= json.loads(r)"
   ]
  },
  {
   "cell_type": "markdown",
   "id": "53e16ecd",
   "metadata": {},
   "source": [
    "# The updated Inventory "
   ]
  },
  {
   "cell_type": "code",
   "execution_count": 17,
   "id": "ddbfcea6",
   "metadata": {},
   "outputs": [
    {
     "data": {
      "text/plain": [
       "{'1000': {'Name': 'Chococake',\n",
       "  'price': 20,\n",
       "  'Quantity': 10,\n",
       "  'Company': 'zzz',\n",
       "  'Best_before': '3 months',\n",
       "  'Category': 'pastry'},\n",
       " '1001': {'Name': 'Vanillacake',\n",
       "  'price': 20,\n",
       "  'Quantity': 40,\n",
       "  'Company': 'zzz',\n",
       "  'Best_before': '3 months',\n",
       "  'Category': 'pastry'},\n",
       " '1002': {'Name': 'Pistacake',\n",
       "  'price': 20,\n",
       "  'Quantity': 40,\n",
       "  'Company': 'zzz',\n",
       "  'Best_before': '3 months',\n",
       "  'Category': 'pastry'},\n",
       " '1003': {'Name': 'plumcake',\n",
       "  'price': 20,\n",
       "  'Quantity': 40,\n",
       "  'Company': 'zzz',\n",
       "  'Best_before': '3 months',\n",
       "  'Category': 'pastry'},\n",
       " '1004': {'Name': 'Bananacake',\n",
       "  'price': 20,\n",
       "  'Quantity': 40,\n",
       "  'Company': 'zzz',\n",
       "  'Best_before': '3 months',\n",
       "  'Category': 'pastry'},\n",
       " '1005': {'Name': 'Coke',\n",
       "  'price': 30,\n",
       "  'Quantity': 50,\n",
       "  'Company': 'zzz',\n",
       "  'Best_before': '5 months',\n",
       "  'Category': 'drinks'},\n",
       " '1006': {'Name': 'Fanta',\n",
       "  'price': 30,\n",
       "  'Quantity': 20,\n",
       "  'Company': 'zzz',\n",
       "  'Best_before': '5 months',\n",
       "  'Category': 'drinks'},\n",
       " '1007': {'Name': 'Limca',\n",
       "  'price': 30,\n",
       "  'Quantity': 50,\n",
       "  'Company': 'zzz',\n",
       "  'Best_before': '5 months',\n",
       "  'Category': 'drinks'},\n",
       " '1008': {'Name': 'Dal',\n",
       "  'price': 20,\n",
       "  'Quantity': 40,\n",
       "  'Company': 'zzz',\n",
       "  'Best_before': '3 months',\n",
       "  'Category': 'Cereals'},\n",
       " '1009': {'Name': 'Apples',\n",
       "  'price': 20,\n",
       "  'Quantity': 40,\n",
       "  'Company': 'zzz',\n",
       "  'Best_before': '3 months',\n",
       "  'Category': 'Fruits'},\n",
       " '1010': {'Name': 'Chococrunch',\n",
       "  'price': 20,\n",
       "  'Quantity': 40,\n",
       "  'Company': 'zzz',\n",
       "  'Best_before': '3 months',\n",
       "  'Category': 'chocolate'},\n",
       " '1011': {'Name': 'thumbsup',\n",
       "  'price': 40,\n",
       "  'Quantity': 100,\n",
       "  'Company': 'zzz',\n",
       "  'Best_before': ' 3 months',\n",
       "  'Category': 'drinks'}}"
      ]
     },
     "execution_count": 17,
     "metadata": {},
     "output_type": "execute_result"
    }
   ],
   "source": [
    "updated_record"
   ]
  },
  {
   "cell_type": "markdown",
   "id": "256cb45e",
   "metadata": {},
   "source": [
    "# Billing The purchase of products"
   ]
  },
  {
   "cell_type": "code",
   "execution_count": 18,
   "id": "4b0499c9",
   "metadata": {},
   "outputs": [],
   "source": [
    "sales={1:{'pdt':prod_ui,'quantity':prod_quan,'Amount':record[prod_ui]['price']*prod_quan},\n",
    "      2:{'pdt':prod_ui,'quantity':prod_quan,'Amount':record[prod_ui]['price']*prod_quan}\n",
    "     }"
   ]
  },
  {
   "cell_type": "code",
   "execution_count": 19,
   "id": "f6c5a7e9",
   "metadata": {},
   "outputs": [
    {
     "data": {
      "text/plain": [
       "{1: {'pdt': '1000', 'quantity': 30, 'Amount': 600},\n",
       " 2: {'pdt': '1000', 'quantity': 30, 'Amount': 600}}"
      ]
     },
     "execution_count": 19,
     "metadata": {},
     "output_type": "execute_result"
    }
   ],
   "source": [
    "sales"
   ]
  },
  {
   "cell_type": "code",
   "execution_count": 20,
   "id": "dadb3f98",
   "metadata": {},
   "outputs": [],
   "source": [
    "jsa= json.dumps(sales)"
   ]
  },
  {
   "cell_type": "code",
   "execution_count": 21,
   "id": "401a03aa",
   "metadata": {},
   "outputs": [
    {
     "data": {
      "text/plain": [
       "'{\"1\": {\"pdt\": \"1000\", \"quantity\": 30, \"Amount\": 600}, \"2\": {\"pdt\": \"1000\", \"quantity\": 30, \"Amount\": 600}}'"
      ]
     },
     "execution_count": 21,
     "metadata": {},
     "output_type": "execute_result"
    }
   ],
   "source": [
    "jsa"
   ]
  },
  {
   "cell_type": "markdown",
   "id": "4b1a558f",
   "metadata": {},
   "source": [
    "### Now lets load this data into another file named sales.json "
   ]
  },
  {
   "cell_type": "code",
   "execution_count": 22,
   "id": "7b630b31",
   "metadata": {},
   "outputs": [],
   "source": [
    "fd= open(\"sales.json\",'w')\n",
    "w=fd.write(jsa)\n",
    "fd.close\n",
    "\n",
    "sale_record= json.dumps(w)"
   ]
  }
 ],
 "metadata": {
  "kernelspec": {
   "display_name": "Python 3",
   "language": "python",
   "name": "python3"
  },
  "language_info": {
   "codemirror_mode": {
    "name": "ipython",
    "version": 3
   },
   "file_extension": ".py",
   "mimetype": "text/x-python",
   "name": "python",
   "nbconvert_exporter": "python",
   "pygments_lexer": "ipython3",
   "version": "3.8.8"
  }
 },
 "nbformat": 4,
 "nbformat_minor": 5
}
